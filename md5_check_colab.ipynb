import hashlib
from google.colab import drive

drive.mount('/content/drive')

folder_path = "/content/drive/MyDrive/your_folder"
md5_file_name = "md5.txt"

md5_file_path = folder_path + md5_file_name

with open(md5_file_path, 'r') as f:
    md5_checksums = f.readlines()

for line in md5_checksums:
    md5_checksum, filename = line.strip().split('  ')

    md5_hash = hashlib.md5()

    with open(folder_path + '/' + filename, 'rb') as f:
        
        for chunk in iter(lambda: f.read(8192), b''):
            md5_hash.update(chunk)

    calculated_md5_checksum = md5_hash.hexdigest()

    if calculated_md5_checksum == md5_checksum:
        print(f"The MD5 checksum of the {filename} file is correct..")
    else:
        print(f"Warning! The MD5 checksum of the {filename} file does not match the original.")